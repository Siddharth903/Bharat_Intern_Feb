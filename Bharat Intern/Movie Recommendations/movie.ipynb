{
 "cells": [
  {
   "cell_type": "markdown",
   "metadata": {},
   "source": [
    "Importing Libraries"
   ]
  },
  {
   "cell_type": "code",
   "execution_count": 1,
   "metadata": {},
   "outputs": [],
   "source": [
    "import pandas as pd \n",
    "import numpy as np \n",
    "import matplotlib.pyplot as plt \n",
    "import seaborn as sb \n",
    "import random as rn "
   ]
  },
  {
   "cell_type": "markdown",
   "metadata": {},
   "source": [
    "Importing daataset"
   ]
  },
  {
   "cell_type": "code",
   "execution_count": 2,
   "metadata": {},
   "outputs": [],
   "source": [
    "data = pd.read_csv('IMDB.csv')"
   ]
  },
  {
   "cell_type": "markdown",
   "metadata": {},
   "source": [
    "Implementing columns adn row transformtion and tunning the dataset for model"
   ]
  },
  {
   "cell_type": "code",
   "execution_count": 3,
   "metadata": {},
   "outputs": [
    {
     "data": {
      "text/html": [
       "<div>\n",
       "<style scoped>\n",
       "    .dataframe tbody tr th:only-of-type {\n",
       "        vertical-align: middle;\n",
       "    }\n",
       "\n",
       "    .dataframe tbody tr th {\n",
       "        vertical-align: top;\n",
       "    }\n",
       "\n",
       "    .dataframe thead th {\n",
       "        text-align: right;\n",
       "    }\n",
       "</style>\n",
       "<table border=\"1\" class=\"dataframe\">\n",
       "  <thead>\n",
       "    <tr style=\"text-align: right;\">\n",
       "      <th></th>\n",
       "      <th>Sr</th>\n",
       "      <th>index</th>\n",
       "      <th>isAdult</th>\n",
       "      <th>startYear</th>\n",
       "      <th>averageRating</th>\n",
       "      <th>numVotes</th>\n",
       "      <th>ordering</th>\n",
       "      <th>isOriginalTitle</th>\n",
       "    </tr>\n",
       "  </thead>\n",
       "  <tbody>\n",
       "    <tr>\n",
       "      <th>count</th>\n",
       "      <td>7850.00000</td>\n",
       "      <td>7850.000000</td>\n",
       "      <td>7850.0</td>\n",
       "      <td>7850.000000</td>\n",
       "      <td>7850.000000</td>\n",
       "      <td>7.850000e+03</td>\n",
       "      <td>7850.000000</td>\n",
       "      <td>7850.0</td>\n",
       "    </tr>\n",
       "    <tr>\n",
       "      <th>mean</th>\n",
       "      <td>3924.50000</td>\n",
       "      <td>5286.804076</td>\n",
       "      <td>0.0</td>\n",
       "      <td>2013.204331</td>\n",
       "      <td>7.367605</td>\n",
       "      <td>7.527845e+04</td>\n",
       "      <td>16.440382</td>\n",
       "      <td>0.0</td>\n",
       "    </tr>\n",
       "    <tr>\n",
       "      <th>std</th>\n",
       "      <td>2266.24414</td>\n",
       "      <td>2851.482333</td>\n",
       "      <td>0.0</td>\n",
       "      <td>6.987697</td>\n",
       "      <td>0.605137</td>\n",
       "      <td>1.779794e+05</td>\n",
       "      <td>12.871290</td>\n",
       "      <td>0.0</td>\n",
       "    </tr>\n",
       "    <tr>\n",
       "      <th>min</th>\n",
       "      <td>0.00000</td>\n",
       "      <td>0.000000</td>\n",
       "      <td>0.0</td>\n",
       "      <td>1990.000000</td>\n",
       "      <td>6.500000</td>\n",
       "      <td>6.000000e+00</td>\n",
       "      <td>1.000000</td>\n",
       "      <td>0.0</td>\n",
       "    </tr>\n",
       "    <tr>\n",
       "      <th>25%</th>\n",
       "      <td>1962.25000</td>\n",
       "      <td>2847.250000</td>\n",
       "      <td>0.0</td>\n",
       "      <td>2008.000000</td>\n",
       "      <td>6.900000</td>\n",
       "      <td>6.035000e+03</td>\n",
       "      <td>6.000000</td>\n",
       "      <td>0.0</td>\n",
       "    </tr>\n",
       "    <tr>\n",
       "      <th>50%</th>\n",
       "      <td>3924.50000</td>\n",
       "      <td>5284.500000</td>\n",
       "      <td>0.0</td>\n",
       "      <td>2015.000000</td>\n",
       "      <td>7.300000</td>\n",
       "      <td>1.484150e+04</td>\n",
       "      <td>13.000000</td>\n",
       "      <td>0.0</td>\n",
       "    </tr>\n",
       "    <tr>\n",
       "      <th>75%</th>\n",
       "      <td>5886.75000</td>\n",
       "      <td>7602.750000</td>\n",
       "      <td>0.0</td>\n",
       "      <td>2019.000000</td>\n",
       "      <td>7.800000</td>\n",
       "      <td>5.660500e+04</td>\n",
       "      <td>24.000000</td>\n",
       "      <td>0.0</td>\n",
       "    </tr>\n",
       "    <tr>\n",
       "      <th>max</th>\n",
       "      <td>7849.00000</td>\n",
       "      <td>10274.000000</td>\n",
       "      <td>0.0</td>\n",
       "      <td>2023.000000</td>\n",
       "      <td>9.500000</td>\n",
       "      <td>2.759621e+06</td>\n",
       "      <td>119.000000</td>\n",
       "      <td>0.0</td>\n",
       "    </tr>\n",
       "  </tbody>\n",
       "</table>\n",
       "</div>"
      ],
      "text/plain": [
       "               Sr         index  isAdult    startYear  averageRating  \\\n",
       "count  7850.00000   7850.000000   7850.0  7850.000000    7850.000000   \n",
       "mean   3924.50000   5286.804076      0.0  2013.204331       7.367605   \n",
       "std    2266.24414   2851.482333      0.0     6.987697       0.605137   \n",
       "min       0.00000      0.000000      0.0  1990.000000       6.500000   \n",
       "25%    1962.25000   2847.250000      0.0  2008.000000       6.900000   \n",
       "50%    3924.50000   5284.500000      0.0  2015.000000       7.300000   \n",
       "75%    5886.75000   7602.750000      0.0  2019.000000       7.800000   \n",
       "max    7849.00000  10274.000000      0.0  2023.000000       9.500000   \n",
       "\n",
       "           numVotes     ordering  isOriginalTitle  \n",
       "count  7.850000e+03  7850.000000           7850.0  \n",
       "mean   7.527845e+04    16.440382              0.0  \n",
       "std    1.779794e+05    12.871290              0.0  \n",
       "min    6.000000e+00     1.000000              0.0  \n",
       "25%    6.035000e+03     6.000000              0.0  \n",
       "50%    1.484150e+04    13.000000              0.0  \n",
       "75%    5.660500e+04    24.000000              0.0  \n",
       "max    2.759621e+06   119.000000              0.0  "
      ]
     },
     "execution_count": 3,
     "metadata": {},
     "output_type": "execute_result"
    }
   ],
   "source": [
    "data.describe()"
   ]
  },
  {
   "cell_type": "code",
   "execution_count": 4,
   "metadata": {},
   "outputs": [
    {
     "data": {
      "text/plain": [
       "Index(['Sr', 'index', 'tconst', 'titleType', 'primaryTitle', 'originalTitle',\n",
       "       'isAdult', 'startYear', 'endYear', 'runtimeMinutes', 'genres',\n",
       "       'averageRating', 'numVotes', 'ordering', 'title', 'region', 'language',\n",
       "       'types', 'attributes', 'isOriginalTitle', 'Description'],\n",
       "      dtype='object')"
      ]
     },
     "execution_count": 4,
     "metadata": {},
     "output_type": "execute_result"
    }
   ],
   "source": [
    "data.columns"
   ]
  },
  {
   "cell_type": "code",
   "execution_count": 5,
   "metadata": {},
   "outputs": [],
   "source": [
    "data2 = data[['index' , 'originalTitle' , 'startYear' ,'genres', 'Description']]"
   ]
  },
  {
   "cell_type": "code",
   "execution_count": 6,
   "metadata": {},
   "outputs": [
    {
     "data": {
      "text/plain": [
       "Index(['index', 'originalTitle', 'startYear', 'genres', 'Description'], dtype='object')"
      ]
     },
     "execution_count": 6,
     "metadata": {},
     "output_type": "execute_result"
    }
   ],
   "source": [
    "data2.columns"
   ]
  },
  {
   "cell_type": "code",
   "execution_count": 7,
   "metadata": {},
   "outputs": [
    {
     "name": "stdout",
     "output_type": "stream",
     "text": [
      "<class 'pandas.core.frame.DataFrame'>\n",
      "RangeIndex: 7850 entries, 0 to 7849\n",
      "Data columns (total 5 columns):\n",
      " #   Column         Non-Null Count  Dtype \n",
      "---  ------         --------------  ----- \n",
      " 0   index          7850 non-null   int64 \n",
      " 1   originalTitle  7850 non-null   object\n",
      " 2   startYear      7850 non-null   int64 \n",
      " 3   genres         7850 non-null   object\n",
      " 4   Description    7662 non-null   object\n",
      "dtypes: int64(2), object(3)\n",
      "memory usage: 306.8+ KB\n"
     ]
    }
   ],
   "source": [
    "data2.info()"
   ]
  },
  {
   "cell_type": "code",
   "execution_count": 8,
   "metadata": {},
   "outputs": [
    {
     "data": {
      "text/html": [
       "<div>\n",
       "<style scoped>\n",
       "    .dataframe tbody tr th:only-of-type {\n",
       "        vertical-align: middle;\n",
       "    }\n",
       "\n",
       "    .dataframe tbody tr th {\n",
       "        vertical-align: top;\n",
       "    }\n",
       "\n",
       "    .dataframe thead th {\n",
       "        text-align: right;\n",
       "    }\n",
       "</style>\n",
       "<table border=\"1\" class=\"dataframe\">\n",
       "  <thead>\n",
       "    <tr style=\"text-align: right;\">\n",
       "      <th></th>\n",
       "      <th>index</th>\n",
       "      <th>originalTitle</th>\n",
       "      <th>startYear</th>\n",
       "      <th>genres</th>\n",
       "      <th>Description</th>\n",
       "    </tr>\n",
       "  </thead>\n",
       "  <tbody>\n",
       "    <tr>\n",
       "      <th>0</th>\n",
       "      <td>0</td>\n",
       "      <td>The Silence of the Lambs</td>\n",
       "      <td>1991</td>\n",
       "      <td>Crime,Drama,Thriller</td>\n",
       "      <td>Jodie Foster stars as Clarice Starling, a top ...</td>\n",
       "    </tr>\n",
       "    <tr>\n",
       "      <th>1</th>\n",
       "      <td>1</td>\n",
       "      <td>Terminator 2: Judgment Day</td>\n",
       "      <td>1991</td>\n",
       "      <td>Action,Sci-Fi</td>\n",
       "      <td>In this sequel set eleven years after \"The Ter...</td>\n",
       "    </tr>\n",
       "    <tr>\n",
       "      <th>2</th>\n",
       "      <td>3</td>\n",
       "      <td>The Lion King</td>\n",
       "      <td>1994</td>\n",
       "      <td>Adventure,Animation,Drama</td>\n",
       "      <td>This Disney animated feature follows the adven...</td>\n",
       "    </tr>\n",
       "    <tr>\n",
       "      <th>3</th>\n",
       "      <td>4</td>\n",
       "      <td>Pulp Fiction</td>\n",
       "      <td>1994</td>\n",
       "      <td>Crime,Drama</td>\n",
       "      <td>Vincent Vega (John Travolta) and Jules Winnfie...</td>\n",
       "    </tr>\n",
       "    <tr>\n",
       "      <th>4</th>\n",
       "      <td>5</td>\n",
       "      <td>The Shawshank Redemption</td>\n",
       "      <td>1994</td>\n",
       "      <td>Drama</td>\n",
       "      <td>Andy Dufresne (Tim Robbins) is sentenced to tw...</td>\n",
       "    </tr>\n",
       "    <tr>\n",
       "      <th>...</th>\n",
       "      <td>...</td>\n",
       "      <td>...</td>\n",
       "      <td>...</td>\n",
       "      <td>...</td>\n",
       "      <td>...</td>\n",
       "    </tr>\n",
       "    <tr>\n",
       "      <th>7845</th>\n",
       "      <td>10269</td>\n",
       "      <td>Un rubio</td>\n",
       "      <td>2019</td>\n",
       "      <td>Drama,Romance</td>\n",
       "      <td>Two men begin a romantic relationship in Bueno...</td>\n",
       "    </tr>\n",
       "    <tr>\n",
       "      <th>7846</th>\n",
       "      <td>10270</td>\n",
       "      <td>Trailer Park Boys: The Animated Series</td>\n",
       "      <td>2019</td>\n",
       "      <td>Animation,Comedy</td>\n",
       "      <td>Nova Scotia's trailer parks are colorful thank...</td>\n",
       "    </tr>\n",
       "    <tr>\n",
       "      <th>7847</th>\n",
       "      <td>10271</td>\n",
       "      <td>Deux</td>\n",
       "      <td>2019</td>\n",
       "      <td>Drama,Romance</td>\n",
       "      <td>Two retired women, Nina and Madeleine, have be...</td>\n",
       "    </tr>\n",
       "    <tr>\n",
       "      <th>7848</th>\n",
       "      <td>10272</td>\n",
       "      <td>Fin de siglo</td>\n",
       "      <td>2019</td>\n",
       "      <td>Drama</td>\n",
       "      <td>A 30-something Argentine poet on vacation in B...</td>\n",
       "    </tr>\n",
       "    <tr>\n",
       "      <th>7849</th>\n",
       "      <td>10274</td>\n",
       "      <td>Blown Away</td>\n",
       "      <td>2019</td>\n",
       "      <td>Reality-TV</td>\n",
       "      <td>A group of artisans from across North America ...</td>\n",
       "    </tr>\n",
       "  </tbody>\n",
       "</table>\n",
       "<p>7850 rows × 5 columns</p>\n",
       "</div>"
      ],
      "text/plain": [
       "      index                           originalTitle  startYear  \\\n",
       "0         0                The Silence of the Lambs       1991   \n",
       "1         1              Terminator 2: Judgment Day       1991   \n",
       "2         3                           The Lion King       1994   \n",
       "3         4                            Pulp Fiction       1994   \n",
       "4         5                The Shawshank Redemption       1994   \n",
       "...     ...                                     ...        ...   \n",
       "7845  10269                                Un rubio       2019   \n",
       "7846  10270  Trailer Park Boys: The Animated Series       2019   \n",
       "7847  10271                                    Deux       2019   \n",
       "7848  10272                            Fin de siglo       2019   \n",
       "7849  10274                              Blown Away       2019   \n",
       "\n",
       "                         genres  \\\n",
       "0          Crime,Drama,Thriller   \n",
       "1                 Action,Sci-Fi   \n",
       "2     Adventure,Animation,Drama   \n",
       "3                   Crime,Drama   \n",
       "4                         Drama   \n",
       "...                         ...   \n",
       "7845              Drama,Romance   \n",
       "7846           Animation,Comedy   \n",
       "7847              Drama,Romance   \n",
       "7848                      Drama   \n",
       "7849                 Reality-TV   \n",
       "\n",
       "                                            Description  \n",
       "0     Jodie Foster stars as Clarice Starling, a top ...  \n",
       "1     In this sequel set eleven years after \"The Ter...  \n",
       "2     This Disney animated feature follows the adven...  \n",
       "3     Vincent Vega (John Travolta) and Jules Winnfie...  \n",
       "4     Andy Dufresne (Tim Robbins) is sentenced to tw...  \n",
       "...                                                 ...  \n",
       "7845  Two men begin a romantic relationship in Bueno...  \n",
       "7846  Nova Scotia's trailer parks are colorful thank...  \n",
       "7847  Two retired women, Nina and Madeleine, have be...  \n",
       "7848  A 30-something Argentine poet on vacation in B...  \n",
       "7849  A group of artisans from across North America ...  \n",
       "\n",
       "[7850 rows x 5 columns]"
      ]
     },
     "execution_count": 8,
     "metadata": {},
     "output_type": "execute_result"
    }
   ],
   "source": [
    "data2"
   ]
  },
  {
   "cell_type": "code",
   "execution_count": 9,
   "metadata": {},
   "outputs": [
    {
     "data": {
      "text/plain": [
       "index              0\n",
       "originalTitle      0\n",
       "startYear          0\n",
       "genres             0\n",
       "Description      188\n",
       "dtype: int64"
      ]
     },
     "execution_count": 9,
     "metadata": {},
     "output_type": "execute_result"
    }
   ],
   "source": [
    "data2.isnull().sum()"
   ]
  },
  {
   "cell_type": "code",
   "execution_count": 10,
   "metadata": {},
   "outputs": [
    {
     "data": {
      "text/html": [
       "<style>#sk-container-id-1 {color: black;background-color: white;}#sk-container-id-1 pre{padding: 0;}#sk-container-id-1 div.sk-toggleable {background-color: white;}#sk-container-id-1 label.sk-toggleable__label {cursor: pointer;display: block;width: 100%;margin-bottom: 0;padding: 0.3em;box-sizing: border-box;text-align: center;}#sk-container-id-1 label.sk-toggleable__label-arrow:before {content: \"▸\";float: left;margin-right: 0.25em;color: #696969;}#sk-container-id-1 label.sk-toggleable__label-arrow:hover:before {color: black;}#sk-container-id-1 div.sk-estimator:hover label.sk-toggleable__label-arrow:before {color: black;}#sk-container-id-1 div.sk-toggleable__content {max-height: 0;max-width: 0;overflow: hidden;text-align: left;background-color: #f0f8ff;}#sk-container-id-1 div.sk-toggleable__content pre {margin: 0.2em;color: black;border-radius: 0.25em;background-color: #f0f8ff;}#sk-container-id-1 input.sk-toggleable__control:checked~div.sk-toggleable__content {max-height: 200px;max-width: 100%;overflow: auto;}#sk-container-id-1 input.sk-toggleable__control:checked~label.sk-toggleable__label-arrow:before {content: \"▾\";}#sk-container-id-1 div.sk-estimator input.sk-toggleable__control:checked~label.sk-toggleable__label {background-color: #d4ebff;}#sk-container-id-1 div.sk-label input.sk-toggleable__control:checked~label.sk-toggleable__label {background-color: #d4ebff;}#sk-container-id-1 input.sk-hidden--visually {border: 0;clip: rect(1px 1px 1px 1px);clip: rect(1px, 1px, 1px, 1px);height: 1px;margin: -1px;overflow: hidden;padding: 0;position: absolute;width: 1px;}#sk-container-id-1 div.sk-estimator {font-family: monospace;background-color: #f0f8ff;border: 1px dotted black;border-radius: 0.25em;box-sizing: border-box;margin-bottom: 0.5em;}#sk-container-id-1 div.sk-estimator:hover {background-color: #d4ebff;}#sk-container-id-1 div.sk-parallel-item::after {content: \"\";width: 100%;border-bottom: 1px solid gray;flex-grow: 1;}#sk-container-id-1 div.sk-label:hover label.sk-toggleable__label {background-color: #d4ebff;}#sk-container-id-1 div.sk-serial::before {content: \"\";position: absolute;border-left: 1px solid gray;box-sizing: border-box;top: 0;bottom: 0;left: 50%;z-index: 0;}#sk-container-id-1 div.sk-serial {display: flex;flex-direction: column;align-items: center;background-color: white;padding-right: 0.2em;padding-left: 0.2em;position: relative;}#sk-container-id-1 div.sk-item {position: relative;z-index: 1;}#sk-container-id-1 div.sk-parallel {display: flex;align-items: stretch;justify-content: center;background-color: white;position: relative;}#sk-container-id-1 div.sk-item::before, #sk-container-id-1 div.sk-parallel-item::before {content: \"\";position: absolute;border-left: 1px solid gray;box-sizing: border-box;top: 0;bottom: 0;left: 50%;z-index: -1;}#sk-container-id-1 div.sk-parallel-item {display: flex;flex-direction: column;z-index: 1;position: relative;background-color: white;}#sk-container-id-1 div.sk-parallel-item:first-child::after {align-self: flex-end;width: 50%;}#sk-container-id-1 div.sk-parallel-item:last-child::after {align-self: flex-start;width: 50%;}#sk-container-id-1 div.sk-parallel-item:only-child::after {width: 0;}#sk-container-id-1 div.sk-dashed-wrapped {border: 1px dashed gray;margin: 0 0.4em 0.5em 0.4em;box-sizing: border-box;padding-bottom: 0.4em;background-color: white;}#sk-container-id-1 div.sk-label label {font-family: monospace;font-weight: bold;display: inline-block;line-height: 1.2em;}#sk-container-id-1 div.sk-label-container {text-align: center;}#sk-container-id-1 div.sk-container {/* jupyter's `normalize.less` sets `[hidden] { display: none; }` but bootstrap.min.css set `[hidden] { display: none !important; }` so we also need the `!important` here to be able to override the default hidden behavior on the sphinx rendered scikit-learn.org. See: https://github.com/scikit-learn/scikit-learn/issues/21755 */display: inline-block !important;position: relative;}#sk-container-id-1 div.sk-text-repr-fallback {display: none;}</style><div id=\"sk-container-id-1\" class=\"sk-top-container\"><div class=\"sk-text-repr-fallback\"><pre>CountVectorizer(max_features=7850, stop_words=&#x27;english&#x27;)</pre><b>In a Jupyter environment, please rerun this cell to show the HTML representation or trust the notebook. <br />On GitHub, the HTML representation is unable to render, please try loading this page with nbviewer.org.</b></div><div class=\"sk-container\" hidden><div class=\"sk-item\"><div class=\"sk-estimator sk-toggleable\"><input class=\"sk-toggleable__control sk-hidden--visually\" id=\"sk-estimator-id-1\" type=\"checkbox\" checked><label for=\"sk-estimator-id-1\" class=\"sk-toggleable__label sk-toggleable__label-arrow\">CountVectorizer</label><div class=\"sk-toggleable__content\"><pre>CountVectorizer(max_features=7850, stop_words=&#x27;english&#x27;)</pre></div></div></div></div></div>"
      ],
      "text/plain": [
       "CountVectorizer(max_features=7850, stop_words='english')"
      ]
     },
     "execution_count": 10,
     "metadata": {},
     "output_type": "execute_result"
    }
   ],
   "source": [
    "from sklearn.feature_extraction.text import CountVectorizer\n",
    "cv = CountVectorizer(max_features=7850 , stop_words='english')\n",
    "cv"
   ]
  },
  {
   "cell_type": "code",
   "execution_count": 11,
   "metadata": {},
   "outputs": [],
   "source": [
    "vector = cv.fit_transform(data2['originalTitle'].values.astype('U')).toarray()"
   ]
  },
  {
   "cell_type": "code",
   "execution_count": 12,
   "metadata": {},
   "outputs": [
    {
     "data": {
      "text/plain": [
       "(7850, 7850)"
      ]
     },
     "execution_count": 12,
     "metadata": {},
     "output_type": "execute_result"
    }
   ],
   "source": [
    "vector.shape"
   ]
  },
  {
   "cell_type": "code",
   "execution_count": 13,
   "metadata": {},
   "outputs": [
    {
     "data": {
      "text/plain": [
       "array([[1., 0., 0., ..., 0., 0., 0.],\n",
       "       [0., 1., 0., ..., 0., 0., 0.],\n",
       "       [0., 0., 1., ..., 0., 0., 0.],\n",
       "       ...,\n",
       "       [0., 0., 0., ..., 1., 0., 0.],\n",
       "       [0., 0., 0., ..., 0., 1., 0.],\n",
       "       [0., 0., 0., ..., 0., 0., 1.]])"
      ]
     },
     "execution_count": 13,
     "metadata": {},
     "output_type": "execute_result"
    }
   ],
   "source": [
    "from sklearn.metrics.pairwise import cosine_similarity\n",
    "cs = cosine_similarity(vector)\n",
    "cs"
   ]
  },
  {
   "cell_type": "code",
   "execution_count": 14,
   "metadata": {},
   "outputs": [
    {
     "data": {
      "text/plain": [
       "4"
      ]
     },
     "execution_count": 14,
     "metadata": {},
     "output_type": "execute_result"
    }
   ],
   "source": [
    "data2[data2['originalTitle']==\"The Shawshank Redemption\"].index[0]"
   ]
  },
  {
   "cell_type": "code",
   "execution_count": 15,
   "metadata": {},
   "outputs": [
    {
     "name": "stdout",
     "output_type": "stream",
     "text": [
      "The Shawshank Redemption\n",
      "Redemption\n",
      "24: Redemption\n",
      "Leverage: Redemption\n",
      "The Blacklist: Redemption\n"
     ]
    }
   ],
   "source": [
    "dist = sorted(list(enumerate(cs[4])), reverse=True , key=lambda vector:vector[1])\n",
    "for i in dist[0:5]:\n",
    "    print(data2.iloc[i[0]].originalTitle)\n"
   ]
  },
  {
   "cell_type": "code",
   "execution_count": 16,
   "metadata": {},
   "outputs": [],
   "source": [
    "def recommend(data):\n",
    "    index=data2[data2['originalTitle']==data].index[0]\n",
    "    dist = sorted(list(enumerate(cs[index])),reverse=True , key = lambda vector: vector[1])\n",
    "    for i in dist[0:5]:\n",
    "        print(data2.iloc[i[0]].originalTitle)"
   ]
  },
  {
   "cell_type": "code",
   "execution_count": 17,
   "metadata": {},
   "outputs": [
    {
     "name": "stdout",
     "output_type": "stream",
     "text": [
      "Iron Man Three\n",
      "Iron Man\n",
      "Iron Man 2\n",
      "Man on Fire\n",
      "Iron Man: Armored Adventures\n"
     ]
    }
   ],
   "source": [
    "recommend(\"Iron Man\")"
   ]
  },
  {
   "cell_type": "markdown",
   "metadata": {},
   "source": [
    "Importing Our PKL(pickle) files"
   ]
  },
  {
   "cell_type": "code",
   "execution_count": 18,
   "metadata": {},
   "outputs": [],
   "source": [
    "import pickle\n",
    "pickle.dump(data2 , open('model.pkl','wb'))\n",
    "pickle.dump(data2 , open('same.pkl','wb'))\n"
   ]
  },
  {
   "cell_type": "code",
   "execution_count": 19,
   "metadata": {},
   "outputs": [
    {
     "data": {
      "text/html": [
       "<div>\n",
       "<style scoped>\n",
       "    .dataframe tbody tr th:only-of-type {\n",
       "        vertical-align: middle;\n",
       "    }\n",
       "\n",
       "    .dataframe tbody tr th {\n",
       "        vertical-align: top;\n",
       "    }\n",
       "\n",
       "    .dataframe thead th {\n",
       "        text-align: right;\n",
       "    }\n",
       "</style>\n",
       "<table border=\"1\" class=\"dataframe\">\n",
       "  <thead>\n",
       "    <tr style=\"text-align: right;\">\n",
       "      <th></th>\n",
       "      <th>index</th>\n",
       "      <th>originalTitle</th>\n",
       "      <th>startYear</th>\n",
       "      <th>genres</th>\n",
       "      <th>Description</th>\n",
       "    </tr>\n",
       "  </thead>\n",
       "  <tbody>\n",
       "    <tr>\n",
       "      <th>0</th>\n",
       "      <td>0</td>\n",
       "      <td>The Silence of the Lambs</td>\n",
       "      <td>1991</td>\n",
       "      <td>Crime,Drama,Thriller</td>\n",
       "      <td>Jodie Foster stars as Clarice Starling, a top ...</td>\n",
       "    </tr>\n",
       "    <tr>\n",
       "      <th>1</th>\n",
       "      <td>1</td>\n",
       "      <td>Terminator 2: Judgment Day</td>\n",
       "      <td>1991</td>\n",
       "      <td>Action,Sci-Fi</td>\n",
       "      <td>In this sequel set eleven years after \"The Ter...</td>\n",
       "    </tr>\n",
       "    <tr>\n",
       "      <th>2</th>\n",
       "      <td>3</td>\n",
       "      <td>The Lion King</td>\n",
       "      <td>1994</td>\n",
       "      <td>Adventure,Animation,Drama</td>\n",
       "      <td>This Disney animated feature follows the adven...</td>\n",
       "    </tr>\n",
       "    <tr>\n",
       "      <th>3</th>\n",
       "      <td>4</td>\n",
       "      <td>Pulp Fiction</td>\n",
       "      <td>1994</td>\n",
       "      <td>Crime,Drama</td>\n",
       "      <td>Vincent Vega (John Travolta) and Jules Winnfie...</td>\n",
       "    </tr>\n",
       "    <tr>\n",
       "      <th>4</th>\n",
       "      <td>5</td>\n",
       "      <td>The Shawshank Redemption</td>\n",
       "      <td>1994</td>\n",
       "      <td>Drama</td>\n",
       "      <td>Andy Dufresne (Tim Robbins) is sentenced to tw...</td>\n",
       "    </tr>\n",
       "    <tr>\n",
       "      <th>...</th>\n",
       "      <td>...</td>\n",
       "      <td>...</td>\n",
       "      <td>...</td>\n",
       "      <td>...</td>\n",
       "      <td>...</td>\n",
       "    </tr>\n",
       "    <tr>\n",
       "      <th>7845</th>\n",
       "      <td>10269</td>\n",
       "      <td>Un rubio</td>\n",
       "      <td>2019</td>\n",
       "      <td>Drama,Romance</td>\n",
       "      <td>Two men begin a romantic relationship in Bueno...</td>\n",
       "    </tr>\n",
       "    <tr>\n",
       "      <th>7846</th>\n",
       "      <td>10270</td>\n",
       "      <td>Trailer Park Boys: The Animated Series</td>\n",
       "      <td>2019</td>\n",
       "      <td>Animation,Comedy</td>\n",
       "      <td>Nova Scotia's trailer parks are colorful thank...</td>\n",
       "    </tr>\n",
       "    <tr>\n",
       "      <th>7847</th>\n",
       "      <td>10271</td>\n",
       "      <td>Deux</td>\n",
       "      <td>2019</td>\n",
       "      <td>Drama,Romance</td>\n",
       "      <td>Two retired women, Nina and Madeleine, have be...</td>\n",
       "    </tr>\n",
       "    <tr>\n",
       "      <th>7848</th>\n",
       "      <td>10272</td>\n",
       "      <td>Fin de siglo</td>\n",
       "      <td>2019</td>\n",
       "      <td>Drama</td>\n",
       "      <td>A 30-something Argentine poet on vacation in B...</td>\n",
       "    </tr>\n",
       "    <tr>\n",
       "      <th>7849</th>\n",
       "      <td>10274</td>\n",
       "      <td>Blown Away</td>\n",
       "      <td>2019</td>\n",
       "      <td>Reality-TV</td>\n",
       "      <td>A group of artisans from across North America ...</td>\n",
       "    </tr>\n",
       "  </tbody>\n",
       "</table>\n",
       "<p>7850 rows × 5 columns</p>\n",
       "</div>"
      ],
      "text/plain": [
       "      index                           originalTitle  startYear  \\\n",
       "0         0                The Silence of the Lambs       1991   \n",
       "1         1              Terminator 2: Judgment Day       1991   \n",
       "2         3                           The Lion King       1994   \n",
       "3         4                            Pulp Fiction       1994   \n",
       "4         5                The Shawshank Redemption       1994   \n",
       "...     ...                                     ...        ...   \n",
       "7845  10269                                Un rubio       2019   \n",
       "7846  10270  Trailer Park Boys: The Animated Series       2019   \n",
       "7847  10271                                    Deux       2019   \n",
       "7848  10272                            Fin de siglo       2019   \n",
       "7849  10274                              Blown Away       2019   \n",
       "\n",
       "                         genres  \\\n",
       "0          Crime,Drama,Thriller   \n",
       "1                 Action,Sci-Fi   \n",
       "2     Adventure,Animation,Drama   \n",
       "3                   Crime,Drama   \n",
       "4                         Drama   \n",
       "...                         ...   \n",
       "7845              Drama,Romance   \n",
       "7846           Animation,Comedy   \n",
       "7847              Drama,Romance   \n",
       "7848                      Drama   \n",
       "7849                 Reality-TV   \n",
       "\n",
       "                                            Description  \n",
       "0     Jodie Foster stars as Clarice Starling, a top ...  \n",
       "1     In this sequel set eleven years after \"The Ter...  \n",
       "2     This Disney animated feature follows the adven...  \n",
       "3     Vincent Vega (John Travolta) and Jules Winnfie...  \n",
       "4     Andy Dufresne (Tim Robbins) is sentenced to tw...  \n",
       "...                                                 ...  \n",
       "7845  Two men begin a romantic relationship in Bueno...  \n",
       "7846  Nova Scotia's trailer parks are colorful thank...  \n",
       "7847  Two retired women, Nina and Madeleine, have be...  \n",
       "7848  A 30-something Argentine poet on vacation in B...  \n",
       "7849  A group of artisans from across North America ...  \n",
       "\n",
       "[7850 rows x 5 columns]"
      ]
     },
     "execution_count": 19,
     "metadata": {},
     "output_type": "execute_result"
    }
   ],
   "source": [
    "pickle.load(open('model.pkl' , 'rb'))"
   ]
  }
 ],
 "metadata": {
  "kernelspec": {
   "display_name": "Python 3",
   "language": "python",
   "name": "python3"
  },
  "language_info": {
   "codemirror_mode": {
    "name": "ipython",
    "version": 3
   },
   "file_extension": ".py",
   "mimetype": "text/x-python",
   "name": "python",
   "nbconvert_exporter": "python",
   "pygments_lexer": "ipython3",
   "version": "3.9.7"
  }
 },
 "nbformat": 4,
 "nbformat_minor": 2
}
